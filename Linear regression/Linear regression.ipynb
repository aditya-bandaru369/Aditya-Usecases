{
 "cells": [
  {
   "cell_type": "markdown",
   "metadata": {
    "colab_type": "text",
    "id": "u9b3NyqFP_0E"
   },
   "source": [
    "# Case Study on Loss Given Default"
   ]
  },
  {
   "cell_type": "markdown",
   "metadata": {
    "colab_type": "text",
    "id": "O0SuxhbeP_0G"
   },
   "source": [
    "# Context: \n",
    "    \n",
    "CNB Bank deals in all kinds of car loans. Customer first apply for loan after that company validates the customer \n",
    "eligibility for loan. In case the borrower doesn’t pay back the loan, the losses are to be incurred by the bank.\n",
    "LGD stands for Loss given default so it means when a customer at a bank defaults on his loan how much money does the bank lose. \n",
    "The customer might have paid some amount back or no amount at all.The bank wants to know if the amount the bank loses can be \n",
    "predicted for new customers who apply for a loan from the past data of all defaulters and their pending amounts"
   ]
  },
  {
   "cell_type": "markdown",
   "metadata": {
    "colab_type": "text",
    "id": "jc_MrvKmP_0H"
   },
   "source": [
    "# Problem:\n",
    "\n",
    "The bank wants to automate the loss estimation based on customer detail provided while applying for loan. These details are Age, \n",
    "Years of Experience, Number of cars, Gender, Marital Status. To automate this process, they have given a problem to identify the \n",
    "loss estimation given that the customers is a defaulter, those are eligible for loan amount so that they get to know what \n",
    "features are leading to defaults up to which amount. Here are the details about the data set."
   ]
  },
  {
   "cell_type": "markdown",
   "metadata": {
    "colab_type": "text",
    "id": "p9OujWl2P_0I"
   },
   "source": [
    "Data:\n",
    "\n",
    "* Variable - Description\n",
    "* Ac_No - The account of customer used as identifier\n",
    "* Age - Age of borrower (16-70)\n",
    "* Years of Experience - Working experience (0-53)\n",
    "* Number of Cars - Possessed cars (1, 2, 3, 4)\n",
    "* Gender - Male/Female\n",
    "* Married - Married/Single\n",
    "* Loss in Thousands - Target variable\n"
   ]
  },
  {
   "cell_type": "code",
   "execution_count": 1,
   "metadata": {
    "colab": {},
    "colab_type": "code",
    "id": "lYrNnc-2P_0J"
   },
   "outputs": [],
   "source": [
    "#import the libraries\n",
    "import pandas as pd\n",
    "import numpy as np\n",
    "import matplotlib.pyplot as plt # this is for visualization\n",
    "import seaborn as sns # for visualization\n",
    "%matplotlib inline\n",
    "import statsmodels.formula.api as sm\n",
    "import scipy, scipy.stats\n",
    "import math # log function is inside this library\n",
    "# this is used to get the plots inline i.e. in the same page\n",
    "from collections import Counter"
   ]
  },
  {
   "cell_type": "code",
   "execution_count": 14,
   "metadata": {
    "colab": {},
    "colab_type": "code",
    "id": "hYZMuVPtP_0O"
   },
   "outputs": [
    {
     "data": {
      "text/html": [
       "<div>\n",
       "<style scoped>\n",
       "    .dataframe tbody tr th:only-of-type {\n",
       "        vertical-align: middle;\n",
       "    }\n",
       "\n",
       "    .dataframe tbody tr th {\n",
       "        vertical-align: top;\n",
       "    }\n",
       "\n",
       "    .dataframe thead th {\n",
       "        text-align: right;\n",
       "    }\n",
       "</style>\n",
       "<table border=\"1\" class=\"dataframe\">\n",
       "  <thead>\n",
       "    <tr style=\"text-align: right;\">\n",
       "      <th></th>\n",
       "      <th>Ac_No</th>\n",
       "      <th>Age</th>\n",
       "      <th>Years of Experience</th>\n",
       "      <th>Number of Vehicles</th>\n",
       "      <th>Gender</th>\n",
       "      <th>Married</th>\n",
       "      <th>Losses in Thousands</th>\n",
       "    </tr>\n",
       "  </thead>\n",
       "  <tbody>\n",
       "    <tr>\n",
       "      <th>0</th>\n",
       "      <td>150024</td>\n",
       "      <td>24</td>\n",
       "      <td>5</td>\n",
       "      <td>1</td>\n",
       "      <td>M</td>\n",
       "      <td>Married</td>\n",
       "      <td>203.319595</td>\n",
       "    </tr>\n",
       "    <tr>\n",
       "      <th>1</th>\n",
       "      <td>144880</td>\n",
       "      <td>31</td>\n",
       "      <td>10</td>\n",
       "      <td>1</td>\n",
       "      <td>F</td>\n",
       "      <td>Single</td>\n",
       "      <td>402.197302</td>\n",
       "    </tr>\n",
       "    <tr>\n",
       "      <th>2</th>\n",
       "      <td>133742</td>\n",
       "      <td>56</td>\n",
       "      <td>37</td>\n",
       "      <td>1</td>\n",
       "      <td>M</td>\n",
       "      <td>Married</td>\n",
       "      <td>553.132096</td>\n",
       "    </tr>\n",
       "    <tr>\n",
       "      <th>3</th>\n",
       "      <td>151282</td>\n",
       "      <td>52</td>\n",
       "      <td>31</td>\n",
       "      <td>1</td>\n",
       "      <td>F</td>\n",
       "      <td>Married</td>\n",
       "      <td>292.430579</td>\n",
       "    </tr>\n",
       "    <tr>\n",
       "      <th>4</th>\n",
       "      <td>174407</td>\n",
       "      <td>20</td>\n",
       "      <td>3</td>\n",
       "      <td>1</td>\n",
       "      <td>M</td>\n",
       "      <td>Single</td>\n",
       "      <td>246.540576</td>\n",
       "    </tr>\n",
       "  </tbody>\n",
       "</table>\n",
       "</div>"
      ],
      "text/plain": [
       "    Ac_No  Age  Years of Experience  Number of Vehicles Gender  Married  \\\n",
       "0  150024   24                    5                   1      M  Married   \n",
       "1  144880   31                   10                   1      F   Single   \n",
       "2  133742   56                   37                   1      M  Married   \n",
       "3  151282   52                   31                   1      F  Married   \n",
       "4  174407   20                    3                   1      M   Single   \n",
       "\n",
       "   Losses in Thousands  \n",
       "0           203.319595  \n",
       "1           402.197302  \n",
       "2           553.132096  \n",
       "3           292.430579  \n",
       "4           246.540576  "
      ]
     },
     "execution_count": 14,
     "metadata": {},
     "output_type": "execute_result"
    }
   ],
   "source": [
    "# read the csv file into a dataframe\n",
    "df=pd.read_csv(\"LGD.csv\")\n",
    "df.head()"
   ]
  },
  {
   "cell_type": "code",
   "execution_count": 15,
   "metadata": {},
   "outputs": [],
   "source": [
    "#The Ac_No is a redundant column - so we will remove it\n",
    "df.drop(['Ac_No'], axis=1, inplace=True)"
   ]
  },
  {
   "cell_type": "code",
   "execution_count": 16,
   "metadata": {
    "colab": {},
    "colab_type": "code",
    "id": "nblIvuUxP_0R",
    "outputId": "e68beb1e-86e6-4fd6-e44d-dc96aeeccbed"
   },
   "outputs": [
    {
     "name": "stdout",
     "output_type": "stream",
     "text": [
      "<class 'pandas.core.frame.DataFrame'>\n",
      "RangeIndex: 15290 entries, 0 to 15289\n",
      "Data columns (total 6 columns):\n",
      "Age                    15290 non-null int64\n",
      "Years of Experience    15290 non-null int64\n",
      "Number of Vehicles     15290 non-null int64\n",
      "Gender                 15290 non-null object\n",
      "Married                15290 non-null object\n",
      "Losses in Thousands    15290 non-null float64\n",
      "dtypes: float64(1), int64(3), object(2)\n",
      "memory usage: 716.8+ KB\n"
     ]
    }
   ],
   "source": [
    "# lets do a basic EDA ( exploratory data analysis) on the file\n",
    "df.info() # this tells us 15290 rows & 7 columns\n",
    "#df.shape will also give the same info\n",
    "#df.info also tells us there are no NULL values"
   ]
  },
  {
   "cell_type": "markdown",
   "metadata": {
    "colab": {},
    "colab_type": "code",
    "id": "djI49tGlP_0a",
    "outputId": "55d62a8d-dc33-45c2-895d-ccdf8479a050"
   },
   "source": [
    "#### Although number of vehicles is a numerical variable in the dataset, it would be better to convert it to a categorical variable so that we dont fractions in number of vehicles"
   ]
  },
  {
   "cell_type": "code",
   "execution_count": 17,
   "metadata": {},
   "outputs": [],
   "source": [
    "df['Number of Vehicles']=df['Number of Vehicles'].astype('category')"
   ]
  },
  {
   "cell_type": "markdown",
   "metadata": {},
   "source": [
    "## Univariate analysis\n",
    "* Numerical variables - boxplot, histogram\n",
    "* Categorical variables - value_count\n",
    "\n",
    "# Visualize numeric variables in boxplot and histograms"
   ]
  },
  {
   "cell_type": "code",
   "execution_count": 18,
   "metadata": {
    "colab": {},
    "colab_type": "code",
    "id": "TKsKyhlpP_0e",
    "outputId": "d9b7a33e-88af-40ff-e2e7-b3ab83a59922"
   },
   "outputs": [
    {
     "data": {
      "text/plain": [
       "<matplotlib.axes._subplots.AxesSubplot at 0x1b90db22ac8>"
      ]
     },
     "execution_count": 18,
     "metadata": {},
     "output_type": "execute_result"
    },
    {
     "data": {
      "image/png": "[encoded data removed]",
      "text/plain": [
       "<matplotlib.figure.Figure at 0x1b90db28240>"
      ]
     },
     "metadata": {},
     "output_type": "display_data"
    }
   ],
   "source": [
    "#to plot histograms\n",
    "sns.distplot(df['Losses in Thousands'],kde=False,bins=30)"
   ]
  },
  {
   "cell_type": "code",
   "execution_count": 19,
   "metadata": {
    "colab": {},
    "colab_type": "code",
    "id": "RABleJ2sP_0i",
    "outputId": "7a895fea-bce0-4713-89a5-830f443e505e"
   },
   "outputs": [
    {
     "data": {
      "text/plain": [
       "<matplotlib.axes._subplots.AxesSubplot at 0x1b90e2dc1d0>"
      ]
     },
     "execution_count": 19,
     "metadata": {},
     "output_type": "execute_result"
    },
    {
     "data": {
      "image/png": "[encoded data removed]",
      "text/plain": [
       "<matplotlib.figure.Figure at 0x1b90dcf8710>"
      ]
     },
     "metadata": {},
     "output_type": "display_data"
    }
   ],
   "source": [
    "# this probably means we should take the log to normalize the data\n",
    "sns.distplot(np.log(df['Losses in Thousands']),kde=False,bins=30)\n",
    "\n",
    "# now the distribution looks normal"
   ]
  },
  {
   "cell_type": "code",
   "execution_count": 12,
   "metadata": {
    "colab": {},
    "colab_type": "code",
    "id": "49T-sbwhP_0n",
    "outputId": "048e8587-0b57-4f04-b791-b7686cd6112d"
   },
   "outputs": [
    {
     "data": {
      "text/plain": [
       "<matplotlib.axes._subplots.AxesSubplot at 0x1b90e0faa90>"
      ]
     },
     "execution_count": 12,
     "metadata": {},
     "output_type": "execute_result"
    },
    {
     "data": {
      "image/png": "[encoded data removed]",
      "text/plain": [
       "<matplotlib.figure.Figure at 0x1b90e085b00>"
      ]
     },
     "metadata": {},
     "output_type": "display_data"
    }
   ],
   "source": [
    "sns.boxplot(df['Age'])"
   ]
  },
  {
   "cell_type": "markdown",
   "metadata": {},
   "source": [
    "#### The median age is 42"
   ]
  },
  {
   "cell_type": "code",
   "execution_count": 13,
   "metadata": {},
   "outputs": [
    {
     "data": {
      "text/plain": [
       "<matplotlib.axes._subplots.AxesSubplot at 0x1b90e0faac8>"
      ]
     },
     "execution_count": 13,
     "metadata": {},
     "output_type": "execute_result"
    },
    {
     "data": {
      "image/png": "[encoded data removed]",
      "text/plain": [
       "<matplotlib.figure.Figure at 0x1b90df93240>"
      ]
     },
     "metadata": {},
     "output_type": "display_data"
    }
   ],
   "source": [
    "sns.boxplot(df['Years of Experience'])"
   ]
  },
  {
   "cell_type": "markdown",
   "metadata": {},
   "source": [
    "#  Explore categorical variables"
   ]
  },
  {
   "cell_type": "code",
   "execution_count": 20,
   "metadata": {},
   "outputs": [
    {
     "data": {
      "text/plain": [
       "2    0.336952\n",
       "3    0.333224\n",
       "1    0.165664\n",
       "4    0.164160\n",
       "Name: Number of Vehicles, dtype: float64"
      ]
     },
     "execution_count": 20,
     "metadata": {},
     "output_type": "execute_result"
    }
   ],
   "source": [
    "df['Number of Vehicles'].value_counts(normalize=True)"
   ]
  },
  {
   "cell_type": "markdown",
   "metadata": {},
   "source": [
    "**About 1/3 of the sample have 2 vehicles another 1/3 have 3 vehicles**"
   ]
  },
  {
   "cell_type": "code",
   "execution_count": 21,
   "metadata": {},
   "outputs": [
    {
     "data": {
      "text/plain": [
       "F    0.506671\n",
       "M    0.493329\n",
       "Name: Gender, dtype: float64"
      ]
     },
     "execution_count": 21,
     "metadata": {},
     "output_type": "execute_result"
    }
   ],
   "source": [
    "df['Gender'].value_counts(normalize=True)"
   ]
  },
  {
   "cell_type": "markdown",
   "metadata": {},
   "source": [
    "**There is a fairly even gender balance in the dataset**"
   ]
  },
  {
   "cell_type": "code",
   "execution_count": 23,
   "metadata": {},
   "outputs": [
    {
     "data": {
      "text/plain": [
       "Married    0.509026\n",
       "Single     0.490974\n",
       "Name: Married, dtype: float64"
      ]
     },
     "execution_count": 23,
     "metadata": {},
     "output_type": "execute_result"
    }
   ],
   "source": [
    "df['Married'].value_counts(normalize=True)"
   ]
  },
  {
   "cell_type": "markdown",
   "metadata": {},
   "source": [
    "**The dataset has an almost equal percentage of married and single customers**"
   ]
  },
  {
   "cell_type": "markdown",
   "metadata": {},
   "source": [
    "## Bivariate analysis\n",
    "Since this is a regerssion problem where the Y variable is numeric, the plots that will help us analyse the impact of X variables on Y are\n",
    "\n",
    "* 2 Numerical variables - scatterplot & correlation\n",
    "* NUmerical vs categorical - Boxplot\n",
    "\n",
    "\n",
    "## Explore relationships between variables using scatterplots & correlation"
   ]
  },
  {
   "cell_type": "code",
   "execution_count": 24,
   "metadata": {
    "colab": {},
    "colab_type": "code",
    "id": "QpnGDmQIP_00",
    "outputId": "34034302-9273-412f-8f2e-0dd560b06d59"
   },
   "outputs": [
    {
     "data": {
      "text/html": [
       "<div>\n",
       "<style scoped>\n",
       "    .dataframe tbody tr th:only-of-type {\n",
       "        vertical-align: middle;\n",
       "    }\n",
       "\n",
       "    .dataframe tbody tr th {\n",
       "        vertical-align: top;\n",
       "    }\n",
       "\n",
       "    .dataframe thead th {\n",
       "        text-align: right;\n",
       "    }\n",
       "</style>\n",
       "<table border=\"1\" class=\"dataframe\">\n",
       "  <thead>\n",
       "    <tr style=\"text-align: right;\">\n",
       "      <th></th>\n",
       "      <th>Age</th>\n",
       "      <th>Years of Experience</th>\n",
       "      <th>Losses in Thousands</th>\n",
       "    </tr>\n",
       "  </thead>\n",
       "  <tbody>\n",
       "    <tr>\n",
       "      <th>Age</th>\n",
       "      <td>1.000000</td>\n",
       "      <td>0.997161</td>\n",
       "      <td>-0.442962</td>\n",
       "    </tr>\n",
       "    <tr>\n",
       "      <th>Years of Experience</th>\n",
       "      <td>0.997161</td>\n",
       "      <td>1.000000</td>\n",
       "      <td>-0.442115</td>\n",
       "    </tr>\n",
       "    <tr>\n",
       "      <th>Losses in Thousands</th>\n",
       "      <td>-0.442962</td>\n",
       "      <td>-0.442115</td>\n",
       "      <td>1.000000</td>\n",
       "    </tr>\n",
       "  </tbody>\n",
       "</table>\n",
       "</div>"
      ],
      "text/plain": [
       "                          Age  Years of Experience  Losses in Thousands\n",
       "Age                  1.000000             0.997161            -0.442962\n",
       "Years of Experience  0.997161             1.000000            -0.442115\n",
       "Losses in Thousands -0.442962            -0.442115             1.000000"
      ]
     },
     "execution_count": 24,
     "metadata": {},
     "output_type": "execute_result"
    }
   ],
   "source": [
    "df.corr()\n",
    "# we see a high co-relation between Age and Years of Experience "
   ]
  },
  {
   "cell_type": "markdown",
   "metadata": {},
   "source": [
    "**The Y variable Losses in Thousands has a negative correlation of ~45% with both age an experience. This means that age and experience increase, loss decreases**\n",
    "\n",
    "**Also note that there is very high correlation between Age and Years of experience. This will be addressed in subsequent weeks**"
   ]
  },
  {
   "cell_type": "code",
   "execution_count": 25,
   "metadata": {},
   "outputs": [
    {
     "data": {
      "text/plain": [
       "<matplotlib.axes._subplots.AxesSubplot at 0x1b90edeb5f8>"
      ]
     },
     "execution_count": 25,
     "metadata": {},
     "output_type": "execute_result"
    },
    {
     "data": {
      "image/png": "[encoded data removed]",
      "text/plain": [
       "<matplotlib.figure.Figure at 0x1b90eaa3c18>"
      ]
     },
     "metadata": {},
     "output_type": "display_data"
    }
   ],
   "source": [
    "#Visualizing relationships – scatterplots\n",
    "df.plot.scatter(y='Losses in Thousands',x='Age',alpha=0.5,figsize=(8,4),s=80)"
   ]
  },
  {
   "cell_type": "code",
   "execution_count": 26,
   "metadata": {},
   "outputs": [
    {
     "data": {
      "text/plain": [
       "<matplotlib.axes._subplots.AxesSubplot at 0x1b90eedcf98>"
      ]
     },
     "execution_count": 26,
     "metadata": {},
     "output_type": "execute_result"
    },
    {
     "data": {
      "image/png": "[encoded data removed]",
      "text/plain": [
       "<matplotlib.figure.Figure at 0x1b90e348978>"
      ]
     },
     "metadata": {},
     "output_type": "display_data"
    }
   ],
   "source": [
    "#How loss varies with Number of vehicles\n",
    "sns.boxplot(x=df['Number of Vehicles'], y=df['Losses in Thousands'])"
   ]
  },
  {
   "cell_type": "markdown",
   "metadata": {},
   "source": [
    "**The median loss is almost the same across all the number of vehicles**"
   ]
  },
  {
   "cell_type": "code",
   "execution_count": 27,
   "metadata": {},
   "outputs": [
    {
     "data": {
      "text/plain": [
       "<matplotlib.axes._subplots.AxesSubplot at 0x1b90eafb9b0>"
      ]
     },
     "execution_count": 27,
     "metadata": {},
     "output_type": "execute_result"
    },
    {
     "data": {
      "image/png": "[encoded data removed]",
      "text/plain": [
       "<matplotlib.figure.Figure at 0x1b90e8fb208>"
      ]
     },
     "metadata": {},
     "output_type": "display_data"
    }
   ],
   "source": [
    "#How loss varies with Gender\n",
    "sns.boxplot(x=df['Gender'], y=df['Losses in Thousands'])"
   ]
  },
  {
   "cell_type": "markdown",
   "metadata": {},
   "source": [
    "**The median loss is lower for female compared to male customers**"
   ]
  },
  {
   "cell_type": "code",
   "execution_count": 28,
   "metadata": {},
   "outputs": [
    {
     "data": {
      "text/plain": [
       "<matplotlib.axes._subplots.AxesSubplot at 0x1b90ec637b8>"
      ]
     },
     "execution_count": 28,
     "metadata": {},
     "output_type": "execute_result"
    },
    {
     "data": {
      "image/png": "[encoded data removed]",
      "text/plain": [
       "<matplotlib.figure.Figure at 0x1b90ee03828>"
      ]
     },
     "metadata": {},
     "output_type": "display_data"
    }
   ],
   "source": [
    "#How loss varies with marital status\n",
    "sns.boxplot(x=df['Married'], y=df['Losses in Thousands'])"
   ]
  },
  {
   "cell_type": "markdown",
   "metadata": {},
   "source": [
    "**The median loss is higher for customers who are single compared to married customers**"
   ]
  },
  {
   "cell_type": "markdown",
   "metadata": {},
   "source": [
    "## Multivariate analysis\n",
    "In this part of the analysis, we will understand the combined effect of more than one X variables on the loss"
   ]
  },
  {
   "cell_type": "code",
   "execution_count": 29,
   "metadata": {},
   "outputs": [
    {
     "name": "stderr",
     "output_type": "stream",
     "text": [
      "c:\\python\\lib\\site-packages\\seaborn\\axisgrid.py:703: UserWarning: Using the boxplot function without specifying `order` is likely to produce an incorrect plot.\n",
      "  warnings.warn(warning)\n"
     ]
    },
    {
     "data": {
      "text/plain": [
       "<seaborn.axisgrid.FacetGrid at 0x1b90d94f860>"
      ]
     },
     "execution_count": 29,
     "metadata": {},
     "output_type": "execute_result"
    },
    {
     "data": {
      "image/png": "[encoded data removed]",
      "text/plain": [
       "<matplotlib.figure.Figure at 0x1b90dafbbe0>"
      ]
     },
     "metadata": {},
     "output_type": "display_data"
    }
   ],
   "source": [
    "g = sns.FacetGrid(df, col=\"Married\", row='Gender')\n",
    "g.map(sns.boxplot, \"Losses in Thousands\")"
   ]
  },
  {
   "cell_type": "markdown",
   "metadata": {},
   "source": [
    "**The median loss is highest for single males**"
   ]
  },
  {
   "cell_type": "code",
   "execution_count": 32,
   "metadata": {
    "colab": {},
    "colab_type": "code",
    "id": "ZtndfNSzP_04",
    "outputId": "87b4b3a9-de1a-4fec-bc61-3dd94d14d978"
   },
   "outputs": [
    {
     "data": {
      "text/html": [
       "<div>\n",
       "<style scoped>\n",
       "    .dataframe tbody tr th:only-of-type {\n",
       "        vertical-align: middle;\n",
       "    }\n",
       "\n",
       "    .dataframe tbody tr th {\n",
       "        vertical-align: top;\n",
       "    }\n",
       "\n",
       "    .dataframe thead th {\n",
       "        text-align: right;\n",
       "    }\n",
       "</style>\n",
       "<table border=\"1\" class=\"dataframe\">\n",
       "  <thead>\n",
       "    <tr style=\"text-align: right;\">\n",
       "      <th>Gender</th>\n",
       "      <th>F</th>\n",
       "      <th>M</th>\n",
       "    </tr>\n",
       "    <tr>\n",
       "      <th>Number of Vehicles</th>\n",
       "      <th></th>\n",
       "      <th></th>\n",
       "    </tr>\n",
       "  </thead>\n",
       "  <tbody>\n",
       "    <tr>\n",
       "      <th>1</th>\n",
       "      <td>353.932196</td>\n",
       "      <td>441.748578</td>\n",
       "    </tr>\n",
       "    <tr>\n",
       "      <th>2</th>\n",
       "      <td>345.051020</td>\n",
       "      <td>436.505727</td>\n",
       "    </tr>\n",
       "    <tr>\n",
       "      <th>3</th>\n",
       "      <td>342.531803</td>\n",
       "      <td>431.585732</td>\n",
       "    </tr>\n",
       "    <tr>\n",
       "      <th>4</th>\n",
       "      <td>333.153706</td>\n",
       "      <td>446.040008</td>\n",
       "    </tr>\n",
       "  </tbody>\n",
       "</table>\n",
       "</div>"
      ],
      "text/plain": [
       "Gender                       F           M\n",
       "Number of Vehicles                        \n",
       "1                   353.932196  441.748578\n",
       "2                   345.051020  436.505727\n",
       "3                   342.531803  431.585732\n",
       "4                   333.153706  446.040008"
      ]
     },
     "execution_count": 32,
     "metadata": {},
     "output_type": "execute_result"
    }
   ],
   "source": [
    "#Cross tab of loss and color\n",
    "pd.pivot_table(data=df, values='Losses in Thousands', index='Number of Vehicles', columns='Gender', aggfunc='mean')\n"
   ]
  },
  {
   "cell_type": "markdown",
   "metadata": {
    "colab": {},
    "colab_type": "code",
    "id": "RUea-eTkP_0-",
    "outputId": "91e1b966-2c1f-4284-d0a0-1f74c06f05a5"
   },
   "source": [
    "**The loss is highest for Male customers who own 4 vehicles**"
   ]
  },
  {
   "cell_type": "markdown",
   "metadata": {},
   "source": [
    "## Model building"
   ]
  },
  {
   "cell_type": "code",
   "execution_count": 34,
   "metadata": {},
   "outputs": [],
   "source": [
    "X = df.drop('Losses in Thousands', axis=1)\n",
    "Y = df[['Losses in Thousands']]"
   ]
  },
  {
   "cell_type": "code",
   "execution_count": 35,
   "metadata": {},
   "outputs": [
    {
     "data": {
      "text/plain": [
       "Index(['Age', 'Years of Experience', 'Number of Vehicles_2',\n",
       "       'Number of Vehicles_3', 'Number of Vehicles_4', 'Gender_M',\n",
       "       'Married_Single'],\n",
       "      dtype='object')"
      ]
     },
     "execution_count": 35,
     "metadata": {},
     "output_type": "execute_result"
    }
   ],
   "source": [
    "#Convert categorical vriables to dummy variables\n",
    "X = pd.get_dummies(X, drop_first=True)\n",
    "X.columns"
   ]
  },
  {
   "cell_type": "code",
   "execution_count": 36,
   "metadata": {
    "colab": {},
    "colab_type": "code",
    "id": "UEfJR6UuP_1D",
    "outputId": "6d6bc790-714d-400f-a540-d654b010a95e"
   },
   "outputs": [
    {
     "name": "stderr",
     "output_type": "stream",
     "text": [
      "c:\\python\\lib\\site-packages\\sklearn\\cross_validation.py:41: DeprecationWarning: This module was deprecated in version 0.18 in favor of the model_selection module into which all the refactored classes and functions are moved. Also note that the interface of the new CV iterators are different from that of this module. This module will be removed in 0.20.\n",
      "  \"This module will be removed in 0.20.\", DeprecationWarning)\n"
     ]
    }
   ],
   "source": [
    "#Split into train and test sets\n",
    "from sklearn.cross_validation import train_test_split\n",
    "x_train,x_test,y_train,y_test=train_test_split(X,Y,test_size=0.3,random_state=1)"
   ]
  },
  {
   "cell_type": "code",
   "execution_count": 38,
   "metadata": {},
   "outputs": [
    {
     "data": {
      "text/plain": [
       "const                    2.584788e-78\n",
       "Age                      3.120781e-04\n",
       "Years of Experience      5.964820e-01\n",
       "Number of Vehicles_2     9.713309e-01\n",
       "Number of Vehicles_3     6.426582e-01\n",
       "Number of Vehicles_4     5.314348e-01\n",
       "Gender_M                1.323057e-121\n",
       "Married_Single          7.853401e-233\n",
       "dtype: float64"
      ]
     },
     "execution_count": 38,
     "metadata": {},
     "output_type": "execute_result"
    }
   ],
   "source": [
    "from statsmodels.api import add_constant\n",
    "X2 = add_constant(x_train)\n",
    "lm= sm.OLS(y_train,X2)\n",
    "lm2=lm.fit()"
   ]
  },
  {
   "cell_type": "code",
   "execution_count": 40,
   "metadata": {
    "colab": {},
    "colab_type": "code",
    "id": "xPd0Q0InP_1M",
    "outputId": "cc863064-eca4-4585-a993-7909364c727c"
   },
   "outputs": [
    {
     "data": {
      "text/html": [
       "<table class=\"simpletable\">\n",
       "<caption>OLS Regression Results</caption>\n",
       "<tr>\n",
       "  <th>Dep. Variable:</th>    <td>Losses in Thousands</td> <th>  R-squared:         </th> <td>   0.305</td> \n",
       "</tr>\n",
       "<tr>\n",
       "  <th>Model:</th>                    <td>OLS</td>         <th>  Adj. R-squared:    </th> <td>   0.304</td> \n",
       "</tr>\n",
       "<tr>\n",
       "  <th>Method:</th>              <td>Least Squares</td>    <th>  F-statistic:       </th> <td>   669.2</td> \n",
       "</tr>\n",
       "<tr>\n",
       "  <th>Date:</th>              <td>Thu, 23 May 2019</td>   <th>  Prob (F-statistic):</th>  <td>  0.00</td>  \n",
       "</tr>\n",
       "<tr>\n",
       "  <th>Time:</th>                  <td>11:54:37</td>       <th>  Log-Likelihood:    </th> <td> -72503.</td> \n",
       "</tr>\n",
       "<tr>\n",
       "  <th>No. Observations:</th>       <td> 10703</td>        <th>  AIC:               </th> <td>1.450e+05</td>\n",
       "</tr>\n",
       "<tr>\n",
       "  <th>Df Residuals:</th>           <td> 10695</td>        <th>  BIC:               </th> <td>1.451e+05</td>\n",
       "</tr>\n",
       "<tr>\n",
       "  <th>Df Model:</th>               <td>     7</td>        <th>                     </th>     <td> </td>    \n",
       "</tr>\n",
       "<tr>\n",
       "  <th>Covariance Type:</th>       <td>nonrobust</td>      <th>                     </th>     <td> </td>    \n",
       "</tr>\n",
       "</table>\n",
       "<table class=\"simpletable\">\n",
       "<tr>\n",
       "            <td></td>              <th>coef</th>     <th>std err</th>      <th>t</th>      <th>P>|t|</th>  <th>[0.025</th>    <th>0.975]</th>  \n",
       "</tr>\n",
       "<tr>\n",
       "  <th>const</th>                <td>  522.6607</td> <td>   27.669</td> <td>   18.890</td> <td> 0.000</td> <td>  468.425</td> <td>  576.897</td>\n",
       "</tr>\n",
       "<tr>\n",
       "  <th>Age</th>                  <td>   -5.3637</td> <td>    1.487</td> <td>   -3.606</td> <td> 0.000</td> <td>   -8.279</td> <td>   -2.448</td>\n",
       "</tr>\n",
       "<tr>\n",
       "  <th>Years of Experience</th>  <td>   -0.8061</td> <td>    1.522</td> <td>   -0.529</td> <td> 0.596</td> <td>   -3.790</td> <td>    2.178</td>\n",
       "</tr>\n",
       "<tr>\n",
       "  <th>Number of Vehicles_2</th> <td>    0.2215</td> <td>    6.163</td> <td>    0.036</td> <td> 0.971</td> <td>  -11.860</td> <td>   12.303</td>\n",
       "</tr>\n",
       "<tr>\n",
       "  <th>Number of Vehicles_3</th> <td>   -2.8695</td> <td>    6.184</td> <td>   -0.464</td> <td> 0.643</td> <td>  -14.992</td> <td>    9.253</td>\n",
       "</tr>\n",
       "<tr>\n",
       "  <th>Number of Vehicles_4</th> <td>   -4.4764</td> <td>    7.153</td> <td>   -0.626</td> <td> 0.531</td> <td>  -18.497</td> <td>    9.544</td>\n",
       "</tr>\n",
       "<tr>\n",
       "  <th>Gender_M</th>             <td>   97.2815</td> <td>    4.095</td> <td>   23.755</td> <td> 0.000</td> <td>   89.254</td> <td>  105.309</td>\n",
       "</tr>\n",
       "<tr>\n",
       "  <th>Married_Single</th>       <td>  136.8109</td> <td>    4.095</td> <td>   33.406</td> <td> 0.000</td> <td>  128.783</td> <td>  144.839</td>\n",
       "</tr>\n",
       "</table>\n",
       "<table class=\"simpletable\">\n",
       "<tr>\n",
       "  <th>Omnibus:</th>       <td>7905.244</td> <th>  Durbin-Watson:     </th>  <td>   2.010</td> \n",
       "</tr>\n",
       "<tr>\n",
       "  <th>Prob(Omnibus):</th>  <td> 0.000</td>  <th>  Jarque-Bera (JB):  </th> <td>404646.147</td>\n",
       "</tr>\n",
       "<tr>\n",
       "  <th>Skew:</th>           <td> 3.032</td>  <th>  Prob(JB):          </th>  <td>    0.00</td> \n",
       "</tr>\n",
       "<tr>\n",
       "  <th>Kurtosis:</th>       <td>32.506</td>  <th>  Cond. No.          </th>  <td>    744.</td> \n",
       "</tr>\n",
       "</table><br/><br/>Warnings:<br/>[1] Standard Errors assume that the covariance matrix of the errors is correctly specified."
      ],
      "text/plain": [
       "<class 'statsmodels.iolib.summary.Summary'>\n",
       "\"\"\"\n",
       "                             OLS Regression Results                            \n",
       "===============================================================================\n",
       "Dep. Variable:     Losses in Thousands   R-squared:                       0.305\n",
       "Model:                             OLS   Adj. R-squared:                  0.304\n",
       "Method:                  Least Squares   F-statistic:                     669.2\n",
       "Date:                 Thu, 23 May 2019   Prob (F-statistic):               0.00\n",
       "Time:                         11:54:37   Log-Likelihood:                -72503.\n",
       "No. Observations:                10703   AIC:                         1.450e+05\n",
       "Df Residuals:                    10695   BIC:                         1.451e+05\n",
       "Df Model:                            7                                         \n",
       "Covariance Type:             nonrobust                                         \n",
       "========================================================================================\n",
       "                           coef    std err          t      P>|t|      [0.025      0.975]\n",
       "----------------------------------------------------------------------------------------\n",
       "const                  522.6607     27.669     18.890      0.000     468.425     576.897\n",
       "Age                     -5.3637      1.487     -3.606      0.000      -8.279      -2.448\n",
       "Years of Experience     -0.8061      1.522     -0.529      0.596      -3.790       2.178\n",
       "Number of Vehicles_2     0.2215      6.163      0.036      0.971     -11.860      12.303\n",
       "Number of Vehicles_3    -2.8695      6.184     -0.464      0.643     -14.992       9.253\n",
       "Number of Vehicles_4    -4.4764      7.153     -0.626      0.531     -18.497       9.544\n",
       "Gender_M                97.2815      4.095     23.755      0.000      89.254     105.309\n",
       "Married_Single         136.8109      4.095     33.406      0.000     128.783     144.839\n",
       "==============================================================================\n",
       "Omnibus:                     7905.244   Durbin-Watson:                   2.010\n",
       "Prob(Omnibus):                  0.000   Jarque-Bera (JB):           404646.147\n",
       "Skew:                           3.032   Prob(JB):                         0.00\n",
       "Kurtosis:                      32.506   Cond. No.                         744.\n",
       "==============================================================================\n",
       "\n",
       "Warnings:\n",
       "[1] Standard Errors assume that the covariance matrix of the errors is correctly specified.\n",
       "\"\"\""
      ]
     },
     "execution_count": 40,
     "metadata": {},
     "output_type": "execute_result"
    }
   ],
   "source": [
    "lm2.summary()"
   ]
  },
  {
   "cell_type": "code",
   "execution_count": 0,
   "metadata": {
    "colab": {},
    "colab_type": "code",
    "id": "axrvN0KoP_1U",
    "outputId": "fb9ea203-bdf5-4f84-bf7e-60310b086d32"
   },
   "outputs": [
    {
     "name": "stdout",
     "output_type": "stream",
     "text": [
      "                             OLS Regression Results                            \n",
      "===============================================================================\n",
      "Dep. Variable:     Losses in Thousands   R-squared:                       0.305\n",
      "Model:                             OLS   Adj. R-squared:                  0.304\n",
      "Method:                  Least Squares   F-statistic:                     1171.\n",
      "Date:                 Thu, 25 Oct 2018   Prob (F-statistic):               0.00\n",
      "Time:                         17:20:05   Log-Likelihood:                -72503.\n",
      "No. Observations:                10703   AIC:                         1.450e+05\n",
      "Df Residuals:                    10698   BIC:                         1.451e+05\n",
      "Df Model:                            4                                         \n",
      "Covariance Type:             nonrobust                                         \n",
      "======================================================================================\n",
      "                         coef    std err          t      P>|t|      [0.025      0.975]\n",
      "--------------------------------------------------------------------------------------\n",
      "const                539.6565      7.950     67.884      0.000     524.074     555.239\n",
      "Age                   -6.1490      0.112    -54.971      0.000      -6.368      -5.930\n",
      "Number of Vehicles    -1.7906      2.151     -0.832      0.405      -6.007       2.426\n",
      "M                     97.2349      4.094     23.750      0.000      89.210     105.260\n",
      "Single               136.7923      4.094     33.410      0.000     128.767     144.818\n",
      "==============================================================================\n",
      "Omnibus:                     7898.559   Durbin-Watson:                   2.010\n",
      "Prob(Omnibus):                  0.000   Jarque-Bera (JB):           403312.043\n",
      "Skew:                           3.029   Prob(JB):                         0.00\n",
      "Kurtosis:                      32.456   Cond. No.                         187.\n",
      "==============================================================================\n",
      "\n",
      "Warnings:\n",
      "[1] Standard Errors assume that the covariance matrix of the errors is correctly specified.\n"
     ]
    }
   ],
   "source": [
    "#to see the summary\n",
    "print(lm2.summary())"
   ]
  },
  {
   "cell_type": "code",
   "execution_count": 41,
   "metadata": {
    "colab": {},
    "colab_type": "code",
    "id": "eaUpoICHP_1c",
    "outputId": "68398543-6d98-4575-ded3-c4449d848f1d"
   },
   "outputs": [
    {
     "data": {
      "text/html": [
       "<div>\n",
       "<style scoped>\n",
       "    .dataframe tbody tr th:only-of-type {\n",
       "        vertical-align: middle;\n",
       "    }\n",
       "\n",
       "    .dataframe tbody tr th {\n",
       "        vertical-align: top;\n",
       "    }\n",
       "\n",
       "    .dataframe thead th {\n",
       "        text-align: right;\n",
       "    }\n",
       "</style>\n",
       "<table border=\"1\" class=\"dataframe\">\n",
       "  <thead>\n",
       "    <tr style=\"text-align: right;\">\n",
       "      <th></th>\n",
       "      <th>coef</th>\n",
       "      <th>pval</th>\n",
       "    </tr>\n",
       "  </thead>\n",
       "  <tbody>\n",
       "    <tr>\n",
       "      <th>const</th>\n",
       "      <td>522.66</td>\n",
       "      <td>0.00</td>\n",
       "    </tr>\n",
       "    <tr>\n",
       "      <th>Married_Single</th>\n",
       "      <td>136.81</td>\n",
       "      <td>0.00</td>\n",
       "    </tr>\n",
       "    <tr>\n",
       "      <th>Gender_M</th>\n",
       "      <td>97.28</td>\n",
       "      <td>0.00</td>\n",
       "    </tr>\n",
       "    <tr>\n",
       "      <th>Age</th>\n",
       "      <td>-5.36</td>\n",
       "      <td>0.00</td>\n",
       "    </tr>\n",
       "  </tbody>\n",
       "</table>\n",
       "</div>"
      ],
      "text/plain": [
       "                 coef  pval\n",
       "const          522.66  0.00\n",
       "Married_Single 136.81  0.00\n",
       "Gender_M        97.28  0.00\n",
       "Age             -5.36  0.00"
      ]
     },
     "execution_count": 41,
     "metadata": {},
     "output_type": "execute_result"
    }
   ],
   "source": [
    "#Filter only significant X variables (pval < 0.05) & sort descending by coef\n",
    "regcoef = pd.DataFrame(lm2.params, columns=['coef'])\n",
    "regcoef['pval']=lm2.pvalues\n",
    "pd.options.display.float_format = '{:.2f}'.format\n",
    "\n",
    "\n",
    "regcoef = regcoef.sort_values(by=\"coef\", ascending=False)\n",
    "pval_filter = regcoef['pval']<=0.05\n",
    "regcoef[pval_filter]"
   ]
  },
  {
   "cell_type": "markdown",
   "metadata": {
    "colab": {},
    "colab_type": "code",
    "id": "R9HFcShPP_1t",
    "outputId": "4e87abc9-39af-4df2-a146-fa1797348dbf"
   },
   "source": [
    "### Interpretation of regression summary\n",
    "* The R sqaured for the model is 0.304. This implies that only 30.4% of the variation in the Y variable is explained by the current X variables. This indicates a low goodness of fit\n",
    "* The significant X variables are listed above in order of their impact on Losses\n",
    "* If the customer is Male, the loss increases by 136.81\n",
    "* The other variables can also be similarly interpreted"
   ]
  },
  {
   "cell_type": "code",
   "execution_count": 44,
   "metadata": {},
   "outputs": [],
   "source": [
    "from sklearn.linear_model import LinearRegression"
   ]
  },
  {
   "cell_type": "code",
   "execution_count": 45,
   "metadata": {},
   "outputs": [],
   "source": [
    "lm3 = LinearRegression()"
   ]
  },
  {
   "cell_type": "code",
   "execution_count": 46,
   "metadata": {},
   "outputs": [
    {
     "data": {
      "text/plain": [
       "LinearRegression(copy_X=True, fit_intercept=True, n_jobs=1, normalize=False)"
      ]
     },
     "execution_count": 46,
     "metadata": {},
     "output_type": "execute_result"
    }
   ],
   "source": [
    "lm3.fit(x_train, y_train)"
   ]
  },
  {
   "cell_type": "code",
   "execution_count": 49,
   "metadata": {},
   "outputs": [],
   "source": [
    "y_pred=lm3.predict(x_test)"
   ]
  },
  {
   "cell_type": "code",
   "execution_count": 54,
   "metadata": {},
   "outputs": [],
   "source": [
    "#Model evaluation metrics\n",
    "from sklearn.metrics import mean_squared_error, r2_score\n",
    "from math import sqrt\n",
    "mse = mean_squared_error(y_test, y_pred)\n",
    "rms = sqrt(mse)\n"
   ]
  },
  {
   "cell_type": "code",
   "execution_count": 56,
   "metadata": {},
   "outputs": [
    {
     "name": "stdout",
     "output_type": "stream",
     "text": [
      "The Root Mean Sq Error is 212.72698761789016\n"
     ]
    }
   ],
   "source": [
    "print(\"The Root Mean Sq Error is {}\".format(rms))"
   ]
  },
  {
   "cell_type": "code",
   "execution_count": 57,
   "metadata": {},
   "outputs": [
    {
     "data": {
      "text/plain": [
       "Losses in Thousands   0.70\n",
       "dtype: float64"
      ]
     },
     "execution_count": 57,
     "metadata": {},
     "output_type": "execute_result"
    }
   ],
   "source": [
    "#Mean absolute percentage error\n",
    "abs_error = np.abs(y_test-y_pred)\n",
    "actual = y_test\n",
    "mape = np.round(np.mean(abs_error/actual),3)\n",
    "mape"
   ]
  },
  {
   "cell_type": "markdown",
   "metadata": {},
   "source": [
    "**The error percentage is very high - 70%. This is because of the low R square value. We will learn how to improve model metrics in the subsequent sessions**"
   ]
  },
  {
   "cell_type": "code",
   "execution_count": null,
   "metadata": {},
   "outputs": [],
   "source": []
  }
 ],
 "metadata": {
  "colab": {
   "name": "M3W2 Casestudy - LGD.ipynb",
   "provenance": [],
   "version": "0.3.2"
  },
  "kernelspec": {
   "display_name": "Python 3",
   "language": "python",
   "name": "python3"
  },
  "language_info": {
   "codemirror_mode": {
    "name": "ipython",
    "version": 3
   },
   "file_extension": ".py",
   "mimetype": "text/x-python",
   "name": "python",
   "nbconvert_exporter": "python",
   "pygments_lexer": "ipython3",
   "version": "3.6.4"
  }
 },
 "nbformat": 4,
 "nbformat_minor": 1
}
